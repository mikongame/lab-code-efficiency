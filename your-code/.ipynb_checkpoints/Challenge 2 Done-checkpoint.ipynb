{
 "cells": [
  {
   "cell_type": "markdown",
   "metadata": {},
   "source": [
    "# Challenge 2"
   ]
  },
  {
   "cell_type": "markdown",
   "metadata": {},
   "source": [
    "The code below generates a given number of random strings that consists of numbers and \n",
    "lower case English letters. You can also define the range of the variable lengths of\n",
    "the strings being generated.\n",
    "\n",
    "The code is functional but has a lot of room for improvement. Use what you have learned\n",
    "about simple and efficient code, refactor the code."
   ]
  },
  {
   "cell_type": "code",
   "execution_count": 1,
   "metadata": {},
   "outputs": [],
   "source": [
    "# Import needed libraries\n",
    "import random\n",
    "import string\n",
    "import sys"
   ]
  },
  {
   "cell_type": "code",
   "execution_count": 2,
   "metadata": {},
   "outputs": [],
   "source": [
    "# Define a function that generates a random string of lowercase letters and digits.\n",
    "# Found interesting that \"string.ascii_letters + string.digits + string.punctuation\" is commonly used to generate paswords\n",
    "\n",
    "\n",
    "def RandomStringGenerator(lst):\n",
    "    lettersAndDigits = string.ascii_lowercase + string.digits\n",
    "    randomStrings = \"\".join(random.choice(lettersAndDigits)\n",
    "                            for element in range(lst))\n",
    "    return randomStrings"
   ]
  },
  {
   "cell_type": "code",
   "execution_count": 3,
   "metadata": {},
   "outputs": [],
   "source": [
    "# Define a function that checks if the inputs are correct and if so appplies the previous based on those inputs\n",
    "def BatchStringGenerator(numberOfStrings, minLength=8, maxLength=12):\n",
    "    if minLength > maxLength:\n",
    "        return sys.exit(\"Incorrect min and max string lengths. Try again.\")\n",
    "    elif minLength == maxLength:\n",
    "        choice = minLength\n",
    "    else:\n",
    "        choice = random.choice(range(minLength, maxLength))\n",
    "    randomized = [RandomStringGenerator(choice)\n",
    "                  for element in range(numberOfStrings)]\n",
    "    return randomized"
   ]
  },
  {
   "cell_type": "code",
   "execution_count": 4,
   "metadata": {},
   "outputs": [],
   "source": [
    "# Define a function promts the user to intriduce inputs to calculates and executes the previously defined functions.\n",
    "def StringsRandomization():\n",
    "    minLength = input(\"Enter minimum string length: \")\n",
    "    maxLength = input(\"Enter maximum string length: \")\n",
    "    numberOfStrings = input(\"How many random strings to generate? \")\n",
    "    print(BatchStringGenerator(int(numberOfStrings), int(minLength), int(maxLength)))"
   ]
  },
  {
   "cell_type": "code",
   "execution_count": 5,
   "metadata": {},
   "outputs": [
    {
     "name": "stdout",
     "output_type": "stream",
     "text": [
      "Enter minimum string length: 5\n",
      "Enter maximum string length: 6\n",
      "How many random strings to generate? 7\n",
      "['856us', 'h6wdc', 'hha73', '6jj1b', 'pkyjl', 'cgwb2', 'kmnsa']\n"
     ]
    }
   ],
   "source": [
    "StringsRandomization()"
   ]
  }
 ],
 "metadata": {
  "kernelspec": {
   "display_name": "Python 3",
   "language": "python",
   "name": "python3"
  },
  "language_info": {
   "codemirror_mode": {
    "name": "ipython",
    "version": 3
   },
   "file_extension": ".py",
   "mimetype": "text/x-python",
   "name": "python",
   "nbconvert_exporter": "python",
   "pygments_lexer": "ipython3",
   "version": "3.7.4"
  },
  "varInspector": {
   "cols": {
    "lenName": 16,
    "lenType": 16,
    "lenVar": 40
   },
   "kernels_config": {
    "python": {
     "delete_cmd_postfix": "",
     "delete_cmd_prefix": "del ",
     "library": "var_list.py",
     "varRefreshCmd": "print(var_dic_list())"
    },
    "r": {
     "delete_cmd_postfix": ") ",
     "delete_cmd_prefix": "rm(",
     "library": "var_list.r",
     "varRefreshCmd": "cat(var_dic_list()) "
    }
   },
   "types_to_exclude": [
    "module",
    "function",
    "builtin_function_or_method",
    "instance",
    "_Feature"
   ],
   "window_display": false
  }
 },
 "nbformat": 4,
 "nbformat_minor": 2
}
