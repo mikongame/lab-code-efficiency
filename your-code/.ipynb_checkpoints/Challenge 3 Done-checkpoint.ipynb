{
 "cells": [
  {
   "cell_type": "markdown",
   "metadata": {},
   "source": [
    "# Challenge 3"
   ]
  },
  {
   "cell_type": "markdown",
   "metadata": {},
   "source": [
    "You are presented with an integer number larger than 5. Your goal is to identify the longest side\n",
    "possible in a right triangle whose sides are not longer than the number you are given.\n",
    "\n",
    "For example, if you are given the number 15, there are 3 possibilities to compose right triangles:\n",
    "\n",
    "1. [3, 4, 5]\n",
    "2. [6, 8, 10]\n",
    "3. [5, 12, 13]\n",
    "\n",
    "The following function shows one way to solve the problem but the code is not ideal or efficient.\n",
    "Refactor the code based on what you have learned about code simplicity and efficiency."
   ]
  },
  {
   "cell_type": "code",
   "execution_count": 11,
   "metadata": {},
   "outputs": [
    {
     "name": "stdout",
     "output_type": "stream",
     "text": [
      "What is the maximal length of the triangle side? Enter a number: 17\n",
      "The longest side possible is 15.\n"
     ]
    }
   ],
   "source": [
    "choice = input(\"What is the maximal length of the triangle side? Enter a number: \")\n",
    "\n",
    "def longest_side(choice):\n",
    "    solutions = [[x, y, z] for x in range(5, choice) for y in range(4, choice) for z in range(3, choice) if (x*x==y*y+z*z)]\n",
    "    return max([max(solution) for solution in solutions])\n",
    "\n",
    "print(\"The longest side possible is {}.\".format(longest_side(int(choice))))"
   ]
  }
 ],
 "metadata": {
  "kernelspec": {
   "display_name": "Python 3",
   "language": "python",
   "name": "python3"
  },
  "language_info": {
   "codemirror_mode": {
    "name": "ipython",
    "version": 3
   },
   "file_extension": ".py",
   "mimetype": "text/x-python",
   "name": "python",
   "nbconvert_exporter": "python",
   "pygments_lexer": "ipython3",
   "version": "3.7.4"
  },
  "varInspector": {
   "cols": {
    "lenName": 16,
    "lenType": 16,
    "lenVar": 40
   },
   "kernels_config": {
    "python": {
     "delete_cmd_postfix": "",
     "delete_cmd_prefix": "del ",
     "library": "var_list.py",
     "varRefreshCmd": "print(var_dic_list())"
    },
    "r": {
     "delete_cmd_postfix": ") ",
     "delete_cmd_prefix": "rm(",
     "library": "var_list.r",
     "varRefreshCmd": "cat(var_dic_list()) "
    }
   },
   "types_to_exclude": [
    "module",
    "function",
    "builtin_function_or_method",
    "instance",
    "_Feature"
   ],
   "window_display": false
  }
 },
 "nbformat": 4,
 "nbformat_minor": 2
}
