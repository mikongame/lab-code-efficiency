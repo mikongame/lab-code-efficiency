{
 "cells": [
  {
   "cell_type": "markdown",
   "metadata": {},
   "source": [
    "# Challenge 1\n",
    "\n",
    "This is a dumb calculator that can add and subtract whole numbers from zero to five.\n",
    "When you run the code, you are prompted to enter two numbers (in the form of English\n",
    "word instead of number) and the operator sign (also in the form of English word).\n",
    "The code will perform the calculation and give the result if your input is what it\n",
    "expects.\n",
    "\n",
    "The code is very long and messy. Refactor it according to what you have learned about\n",
    "code simplicity and efficiency."
   ]
  },
  {
   "cell_type": "code",
   "execution_count": 12,
   "metadata": {},
   "outputs": [],
   "source": [
    "# Define a function asks the user to introduce the inputs to colculate and which sort of inputs should they intriduce\n",
    "def askForInputs():\n",
    "    firstNumber = input('Please choose your first number (zero to five): ')\n",
    "    operator = input('What do you want to do? plus or minus: ')\n",
    "    secondNumber = input('Please choose your second number (zero to five): ')\n",
    "    return (firstNumber, operator, secondNumber)\n",
    "\n",
    "# Define a function that checks if the numeric inputs of the user are valid\n",
    "\n",
    "\n",
    "def checkNumericInputs(number):\n",
    "    numericInputs = [\"zero\", \"one\", \"two\", \"three\", \"four\", \"five\"]\n",
    "    return number in numericInputs\n",
    "\n",
    "# Define a function that checks if the operator input of the user is valid\n",
    "\n",
    "\n",
    "def checkOperatorInput(operator):\n",
    "    operatorInput = [\"minus\", \"plus\"]\n",
    "    return operator in operatorInput\n",
    "\n",
    "# Define a function that genarates the variables the calculator will operate with if they are valid\n",
    "\n",
    "\n",
    "def checkInputsValidity(firstNumber, operator, secondNumber):\n",
    "    firstNumberValid = checkNumericInputs(firstNumber)\n",
    "    operatorValid = checkOperatorInput(operator)\n",
    "    secondNumberValid = checkNumericInputs(secondNumber)\n",
    "    return firstNumberValid and operatorValid and secondNumberValid\n",
    "\n",
    "# Define a function that turns strings with valid inputs to numeric and mathematical signs so as to operate\n",
    "\n",
    "\n",
    "def calculation(firstNumber, operator, secondNumber):\n",
    "    inputNumbersDict = {\"zero\": \"0\", \"one\": \"1\",\n",
    "                        \"two\": \"2\", \"three\": \"3\", \"four\": \"4\", \"five\": \"5\"}\n",
    "    operationDict = {\"minus\": \"-\", \"plus\": \"+\"}\n",
    "    return eval(\"{} {} {}\".format(inputNumbersDict[firstNumber], operationDict[operator], inputNumbersDict[secondNumber]))\n",
    "\n",
    "# Define a function that turns numeric results from the previous function to equivalent strings\n",
    "\n",
    "\n",
    "def resultToString(number):\n",
    "    outputNumberDict = {\"0\": \"zero\", \"1\": \"one\", \"2\": \"two\", \"3\": \"three\", \"4\": \"four\",\n",
    "                        \"5\": \"five\", \"6\": \"six\", \"7\": \"seven\", \"8\": \"eight\", \"9\": \"nine\", \"10\": \"ten\"}\n",
    "    return outputNumberDict[str(number)] if number >= 0 else \"minus {}\".format(outputNumberDict[str(number)[-1]])"
   ]
  },
  {
   "cell_type": "code",
   "execution_count": 13,
   "metadata": {},
   "outputs": [],
   "source": [
    "# Defines a function that salutes the user, give they some instructions and execute the previously defined\n",
    "# functions so as to do the calculation only if the inputs are valid, elif would anounce they are not.\n",
    "\n",
    "\n",
    "def dumbCalculation():\n",
    "    print('Welcome to this calculator!')\n",
    "    print('It can add and subtract whole numbers from zero to five')\n",
    "\n",
    "    firstNumber, operator, secondNumber = askForInputs()\n",
    "    Validity = checkInputsValidity(firstNumber, operator, secondNumber)\n",
    "\n",
    "    if not (Validity):\n",
    "        print(\"I am not able to answer this question. Check your input.\")\n",
    "    else:\n",
    "        numericResult = calculation(firstNumber, operator, secondNumber)\n",
    "        resultingString = resultToString(numericResult)\n",
    "        print(\"{} {} {} equals {}\".format(firstNumber,\n",
    "                                          operator, secondNumber, resultingString))\n",
    "\n",
    "    print(\"Thanks for using this calculator, goodbye :)\")"
   ]
  },
  {
   "cell_type": "code",
   "execution_count": 14,
   "metadata": {},
   "outputs": [
    {
     "name": "stdout",
     "output_type": "stream",
     "text": [
      "Welcome to this calculator!\n",
      "It can add and subtract whole numbers from zero to five\n",
      "Please choose your first number (zero to five): zero\n",
      "What do you want to do? plus or minus: minus\n",
      "Please choose your second number (zero to five): five\n",
      "zero minus five equals negative five\n",
      "Thanks for using this calculator, goodbye :)\n"
     ]
    }
   ],
   "source": [
    "# We execute the function and all the function inside\n",
    "dumbCalculation()"
   ]
  },
  {
   "cell_type": "code",
   "execution_count": null,
   "metadata": {},
   "outputs": [],
   "source": []
  }
 ],
 "metadata": {
  "kernelspec": {
   "display_name": "Python 3",
   "language": "python",
   "name": "python3"
  },
  "language_info": {
   "codemirror_mode": {
    "name": "ipython",
    "version": 3
   },
   "file_extension": ".py",
   "mimetype": "text/x-python",
   "name": "python",
   "nbconvert_exporter": "python",
   "pygments_lexer": "ipython3",
   "version": "3.7.4"
  },
  "varInspector": {
   "cols": {
    "lenName": 16,
    "lenType": 16,
    "lenVar": 40
   },
   "kernels_config": {
    "python": {
     "delete_cmd_postfix": "",
     "delete_cmd_prefix": "del ",
     "library": "var_list.py",
     "varRefreshCmd": "print(var_dic_list())"
    },
    "r": {
     "delete_cmd_postfix": ") ",
     "delete_cmd_prefix": "rm(",
     "library": "var_list.r",
     "varRefreshCmd": "cat(var_dic_list()) "
    }
   },
   "types_to_exclude": [
    "module",
    "function",
    "builtin_function_or_method",
    "instance",
    "_Feature"
   ],
   "window_display": false
  }
 },
 "nbformat": 4,
 "nbformat_minor": 2
}
